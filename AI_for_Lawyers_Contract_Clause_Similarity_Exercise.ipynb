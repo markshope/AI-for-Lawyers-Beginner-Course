{
  "nbformat": 4,
  "nbformat_minor": 0,
  "metadata": {
    "colab": {
      "name": "AI for Lawyers - Contract Clause Similarity Exercise",
      "version": "0.3.2",
      "provenance": [],
      "collapsed_sections": [],
      "include_colab_link": true
    },
    "kernelspec": {
      "display_name": "Python 3",
      "language": "python",
      "name": "python3"
    }
  },
  "cells": [
    {
      "cell_type": "markdown",
      "metadata": {
        "id": "view-in-github",
        "colab_type": "text"
      },
      "source": [
        "<a href=\"https://colab.research.google.com/github/markshope/AI-for-Lawyers-Beginner-Course/blob/master/AI_for_Lawyers_Contract_Clause_Similarity_Exercise.ipynb\" target=\"_parent\"><img src=\"https://colab.research.google.com/assets/colab-badge.svg\" alt=\"Open In Colab\"/></a>"
      ]
    },
    {
      "metadata": {
        "colab_type": "text",
        "id": "co7MV6sX7Xto"
      },
      "cell_type": "markdown",
      "source": [
        "# Universal Sentence Encoder\n"
      ]
    },
    {
      "metadata": {
        "colab_type": "text",
        "id": "eAVQGidpL8v5"
      },
      "cell_type": "markdown",
      "source": [
        "This notebook illustrates how to access the Universal Sentence Encoder (USE) in TensorFlow and use it for language similarity.  We will use the USE to compare four different compliance clauses against four different force majeure clauses in standard legal contracts.\n"
      ]
    },
    {
      "metadata": {
        "colab_type": "text",
        "id": "pOTzp8O36CyQ"
      },
      "cell_type": "markdown",
      "source": [
        "# Setting Up the Environment\n",
        "\n",
        "This section sets up the environment for access to USE.  Here are the tools we will use:"
      ]
    },
    {
      "metadata": {
        "colab_type": "code",
        "id": "MSeY-MUQo2Ha",
        "colab": {}
      },
      "cell_type": "code",
      "source": [
        "import tensorflow as tf #imports TensorFlow\n",
        "import tensorflow_hub as hub #imports TensorFlow Hub; TensorFlow Hub is a library for reusable machine learning modules.\n",
        "import numpy as np #imports Numpy\n",
        "import seaborn as sns #imports Seaborn; Seaborn is a Python data visualization library."
      ],
      "execution_count": 0,
      "outputs": []
    },
    {
      "metadata": {
        "id": "gNHm7jSjPIqe",
        "colab_type": "code",
        "colab": {}
      },
      "cell_type": "code",
      "source": [
        "embed = hub.Module(\"https://tfhub.dev/google/universal-sentence-encoder/2\") #imports the Universal Sentence Encoder module"
      ],
      "execution_count": 0,
      "outputs": []
    },
    {
      "metadata": {
        "colab_type": "text",
        "id": "BnvjATdy64eR"
      },
      "cell_type": "markdown",
      "source": [
        "# Finding Similarities and Plotting\n",
        "\n",
        "Here we define how we determine similarities.  We have arbitrarily calculated this as the inner product of two arrays."
      ]
    },
    {
      "metadata": {
        "colab_type": "code",
        "id": "h1FFCTKm7ba4",
        "colab": {}
      },
      "cell_type": "code",
      "source": [
        "def plot_sim(labels, features, rotation):\n",
        "  correlation = np.inner(features, features) #inner product of two arrays. \n",
        "  sns.set(font_scale=1)\n",
        "  g = sns.heatmap(\n",
        "      correlation,\n",
        "      xticklabels=labels,\n",
        "      yticklabels=labels,\n",
        "      vmin=0,\n",
        "      vmax=1,\n",
        "      annot=True,\n",
        "      cmap=sns.diverging_palette(220, 10, as_cmap=True),\n",
        "      linewidths=.5)\n",
        "  g.set_xticklabels(labels, rotation=rotation)\n",
        "  g.set_title(\"Clause Similarity\")\n",
        "\n",
        "\n",
        "def plot_run(sess_, input_tensor_, clauses_, encoding_tensor):\n",
        "  clause_embeddings_ = sess_.run(\n",
        "      encoding_tensor, feed_dict={input_tensor_: clauses_})\n",
        "  plot_sim(clauses_, clause_embeddings_, 90)\n",
        "\n",
        "tf.logging.set_verbosity(tf.logging.ERROR) #Sets the threshold for what messages will be logged."
      ],
      "execution_count": 0,
      "outputs": []
    },
    {
      "metadata": {
        "colab_type": "text",
        "id": "339tuJ5Pwqqv"
      },
      "cell_type": "markdown",
      "source": [
        "Here we enter our compliance and force majeure clauses."
      ]
    },
    {
      "metadata": {
        "id": "XJG81JSA9adp",
        "colab_type": "code",
        "colab": {}
      },
      "cell_type": "code",
      "source": [
        "clauses = [\n",
        "    # Compliance Clauses\n",
        "    \"Seller shall comply with all applicable laws, regulations, and ordinances. Seller shall maintain in effect all the licenses, permissions, authorizations, consents, and permits necessary to carry out its obligations under this Agreement.\",\n",
        "    \"Buyer shall comply with all applicable laws, regulations, and ordinances. Buyer shall maintain in effect all the licenses, permissions, authorizations, consents, and permits necessary to carry out its obligations under this Agreement.\",\n",
        "    \"Seller and Buyer shall at all times materially comply with all federal, state, and local laws applicable to this Agreement.\",\n",
        "    \"Party A shall at all times comply with all laws except to the extent that such failure would not have a material adverse effect on Party A's ability to comply with its obligations under this Agreement.\",\n",
        "\n",
        "    # Force Majeure Clauses\n",
        "    \"No Party to this Agreement shall be liable or responsible to the other Party, nor be deemed to have defaulted under or breached this Agreement, for any failure or delay in fulfilling or performing any material term of this Agreement, when such failure or delay is caused by or results from acts beyond the affected Party's control.\",\n",
        "    \"Any failure or delay of a Party in fulfilling or performing any term under this Agreement will be excused to the extent that the failure or delay was caused by acts or circumstances beyond such Party's control and without such Party's fault or negligence.\",\n",
        "    \"Seller shall not be liable or responsible to Customer, nor be deemed to have defaulted under or breached this Agreement, for any failure or delay in fulfilling or performing any term of this Agreement, when such failure or delay is caused by or results from acts beyond the Seller's control.\",\n",
        "    \"Seller shall not be liable or responsible to Buyer, nor be deemed to have defaulted or breached this Agreement, for any failure or delay in fulfilling or performing any term of this Agreement when such failure or delay is caused by or results from acts or circumstances beyond the control of Seller.\",\n",
        "\n",
        "]"
      ],
      "execution_count": 0,
      "outputs": []
    },
    {
      "metadata": {
        "id": "qdCGHHiF9cjo",
        "colab_type": "text"
      },
      "cell_type": "markdown",
      "source": [
        "Here is where we begin calculating with a TensorFlow session.  Here we show the similarity in a heat map in Seaborn. The final graph is an 8x8 matrix where each entry is colored based on its similarity to another. Do you see any patterns? Do you see any issues?"
      ]
    },
    {
      "metadata": {
        "colab_type": "code",
        "id": "cPMCaxrZwp7t",
        "colab": {}
      },
      "cell_type": "code",
      "source": [
        "sim_placeholder = tf.placeholder(tf.string, shape=(None)) #Inserts a placeholder for a tensor.\n",
        "sim_encodings = embed(sim_placeholder)\n",
        "v_init = tf.global_variables_initializer()\n",
        "t_init = tf.tables_initializer()\n",
        "with tf.Session() as sess: #A Session object encapsulates the environment in which Operation objects are executed, and Tensor objects are evaluated. \n",
        "  sess.run(v_init) # initialize variables\n",
        "  sess.run(t_init) # initialize tables\n",
        "  plot_run(sess, sim_placeholder, clauses, sim_encodings)"
      ],
      "execution_count": 0,
      "outputs": []
    },
    {
      "metadata": {
        "id": "shC_lyXgU9mV",
        "colab_type": "text"
      },
      "cell_type": "markdown",
      "source": [
        "# Copyright Notices\n",
        "\n",
        "The following copyright statements and licenses apply to various open source software components (or portions thereof) that are included with the code in this file. The code does not necessarily use all the open source software components referred to below and may also only use portions of a given component.\n",
        "\n",
        "-----------------\n",
        "\n",
        "**Semantic Similarity with TF-Hub Universal Encoder**\n",
        "\n",
        "Copyright 2018 The TensorFlow Hub Authors. All Rights Reserved.\n",
        "\n",
        "Licensed under the Apache License, Version 2.0 (the \"License\"); you may not use this file except in compliance with the License. You may obtain a copy of the License at\n",
        "\n",
        "     http://www.apache.org/licenses/LICENSE-2.0\n",
        "\n",
        "Unless required by applicable law or agreed to in writing, software distributed under the License is distributed on an \"AS IS\" BASIS, WITHOUT WARRANTIES OR CONDITIONS OF ANY KIND, either express or implied. See the License for the specific language governing permissions and limitations under the License."
      ]
    }
  ]
}