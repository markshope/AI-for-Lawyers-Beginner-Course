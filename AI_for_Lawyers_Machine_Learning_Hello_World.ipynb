{
  "nbformat": 4,
  "nbformat_minor": 0,
  "metadata": {
    "colab": {
      "name": "AI for Lawyers - Machine Learning Hello World.ipynb",
      "version": "0.3.2",
      "provenance": [],
      "collapsed_sections": [],
      "include_colab_link": true
    },
    "kernelspec": {
      "name": "python3",
      "display_name": "Python 3"
    }
  },
  "cells": [
    {
      "cell_type": "markdown",
      "metadata": {
        "id": "view-in-github",
        "colab_type": "text"
      },
      "source": [
        "<a href=\"https://colab.research.google.com/github/markshope/AI-for-Lawyers-Machine-Learning-Hello-World/blob/master/AI_for_Lawyers_Machine_Learning_Hello_World.ipynb\" target=\"_parent\"><img src=\"https://colab.research.google.com/assets/colab-badge.svg\" alt=\"Open In Colab\"/></a>"
      ]
    },
    {
      "metadata": {
        "id": "S92iDKo00v6O",
        "colab_type": "code",
        "colab": {}
      },
      "cell_type": "code",
      "source": [
        "import sklearn\n",
        "from sklearn import tree\n",
        "features = [[203, 0], [109,0], [53,1], [507,0], [368,1], [15,1], [287,0], [146,1], [489,0], [147,1]]\n",
        "labels = [0, 0, 0, 1, 1, 0, 1, 1, 0, 1]\n",
        "clf = tree.DecisionTreeClassifier()\n",
        "clf = clf.fit(features, labels)\n",
        "print(clf.predict([[266, 1]]))"
      ],
      "execution_count": 0,
      "outputs": []
    }
  ]
}