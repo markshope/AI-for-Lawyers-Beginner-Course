{
  "nbformat": 4,
  "nbformat_minor": 0,
  "metadata": {
    "colab": {
      "name": "AI for Lawyers - Colab Introduction",
      "version": "0.3.2",
      "provenance": [],
      "collapsed_sections": [],
      "toc_visible": true,
      "include_colab_link": true
    },
    "kernelspec": {
      "display_name": "Python 3",
      "name": "python3"
    }
  },
  "cells": [
    {
      "cell_type": "markdown",
      "metadata": {
        "id": "view-in-github",
        "colab_type": "text"
      },
      "source": [
        "<a href=\"https://colab.research.google.com/github/markshope/AI-for-Lawyers-Beginner-Course/blob/master/AI_for_Lawyers_Colab_Introduction.ipynb\" target=\"_parent\"><img src=\"https://colab.research.google.com/assets/colab-badge.svg\" alt=\"Open In Colab\"/></a>"
      ]
    },
    {
      "metadata": {
        "colab_type": "text",
        "id": "JyG45Qk3qQLS"
      },
      "cell_type": "markdown",
      "source": [
        "# Cells\n",
        "A notebook is a list of cells. Cells contain either **text** or **code** and its output. Click a cell to select it."
      ]
    },
    {
      "metadata": {
        "colab_type": "text",
        "id": "KR921S_OQSHG"
      },
      "cell_type": "markdown",
      "source": [
        "## Code cells\n",
        "Below is a **code cell**. Click in the cell to select it and execute the contents by clicking the **Play icon** in the left gutter of the cell.\n"
      ]
    },
    {
      "metadata": {
        "cellView": "both",
        "colab_type": "code",
        "id": "WUtu4316QSHL",
        "colab": {}
      },
      "cell_type": "code",
      "source": [
        "number = 10\n",
        "number"
      ],
      "execution_count": 0,
      "outputs": []
    },
    {
      "metadata": {
        "colab_type": "text",
        "id": "Id6tDF1HQSHD"
      },
      "cell_type": "markdown",
      "source": [
        "## Text cells\n",
        "This is a **text cell**. You can **double-click** the cell to edit it.\n"
      ]
    },
    {
      "metadata": {
        "colab_type": "text",
        "id": "7bqjkGKwQSHW"
      },
      "cell_type": "markdown",
      "source": [
        "## Adding and moving cells\n",
        "You can add new cells by using the **+ CODE** and **+ TEXT** buttons that appear when you hover between cells. These buttons are also in the toolbar above.\n",
        "\n",
        "You can move a cell by selecting it and clicking **Cell Up** or **Cell Down** in the toolbar above. \n",
        "\n",
        "Consecutive cells can be selected by dragging from outside one cell and through the group of cells you would like to select.  Non-adjacent cells can be selected by using the **Ctrl** key.  Similarly, you can use **Shift** to select all intermediate cells."
      ]
    },
    {
      "metadata": {
        "colab_type": "text",
        "id": "GOwlZRXEQSHZ"
      },
      "cell_type": "markdown",
      "source": [
        "# Working with Python\n",
        "Colab is built on top of [Jupyter Notebook](https://jupyter.org/) and runs Python, a programming language.  We will learn more about Python later.  \n",
        "\n",
        "Excecute the cell below by pressing the **Play icon**."
      ]
    },
    {
      "metadata": {
        "cellView": "both",
        "colab_type": "code",
        "id": "d-S-3nYLQSHb",
        "colab": {}
      },
      "cell_type": "code",
      "source": [
        "print(\"This text will be printed below.\")"
      ],
      "execution_count": 0,
      "outputs": []
    },
    {
      "metadata": {
        "id": "_oxOCJM_unZL",
        "colab_type": "text"
      },
      "cell_type": "markdown",
      "source": [
        "**Assignment:** Create a code cell immediately below this text cell and insert the following code:\n",
        "\n",
        "        print(\"Hello, World!\")\n",
        "\n",
        "After you have inserted the text, execute the cell by pressing the **Play icon**."
      ]
    },
    {
      "metadata": {
        "colab_type": "text",
        "id": "aro-UJgUQSH1"
      },
      "cell_type": "markdown",
      "source": [
        "# Integration with Drive\n",
        "\n",
        "Colaboratory is integrated with Google Drive. It allows you to share, comment, and collaborate on the same document with multiple people:\n",
        "\n",
        "* The **SHARE** button (top-right of the toolbar) allows you to share the notebook and control permissions set on it.\n",
        "\n",
        "* **File->Make a Copy** creates a copy of the notebook in Drive.\n",
        "\n",
        "* **File->Save** saves the File to Drive.\n",
        "\n",
        "* **File->Revision history** shows the notebook's revision history. "
      ]
    },
    {
      "metadata": {
        "colab_type": "text",
        "id": "4hfV37gxpP_c"
      },
      "cell_type": "markdown",
      "source": [
        "## Commenting on a cell\n",
        "You can comment on a Colab notebook. Comments are attached to cells, and are displayed next to the cell they refer to.\n",
        "\n",
        "If you have edit or comment permissions you can comment on a cell in one of three ways: \n",
        "\n",
        "1. Select a cell and click the comment button in the toolbar in the top-right corner of the cell.\n",
        "1. Right click a text cell and select **Add a comment** from the context menu.\n",
        "3. Use the shortcut **Ctrl+Shift+M** to add a comment to the currently selected cell. \n",
        "\n",
        "The Comment button in the top-right corner of the page shows all comments attached to the notebook."
      ]
    },
    {
      "metadata": {
        "colab_type": "text",
        "id": "-pVhOfzLx9us"
      },
      "cell_type": "markdown",
      "source": [
        "# Using Google Colab with GitHub\n",
        "\n"
      ]
    },
    {
      "metadata": {
        "colab_type": "text",
        "id": "wKJ4bd5rt1wy"
      },
      "cell_type": "markdown",
      "source": [
        "Colab is designed to integrate cleanly with GitHub, allowing both loading notebooks from GitHub and saving notebooks to GitHub."
      ]
    },
    {
      "metadata": {
        "colab_type": "text",
        "id": "WzIRIt9d2huC"
      },
      "cell_type": "markdown",
      "source": [
        "## Browsing GitHub Repositories from Colab\n",
        "\n",
        "Colab also supports special URLs that link directly to a GitHub browser for any user/organization, repository, or branch. For example:\n",
        "\n",
        "- http://colab.research.google.com/github will give you a general GitHub browser, where you can search for any GitHub organization or username.\n",
        "- http://colab.research.google.com/github/markshope/ will open the repository browser me."
      ]
    },
    {
      "metadata": {
        "colab_type": "text",
        "id": "8J3NBxtZpPcK"
      },
      "cell_type": "markdown",
      "source": [
        "## Saving Notebooks To GitHub or Drive\n",
        "\n",
        "Any time you open a GitHub hosted notebook in Colab, it opens a new editable view of the notebook. You can run and modify the notebook without worrying about overwriting the source.\n",
        "\n",
        "If you would like to save your changes from within Colab, you can use the File menu to save the modified notebook either to Google Drive or back to GitHub. Choose **File→Save a copy in Drive** or **File→Save a copy to GitHub** and follow the prompts. To save a Colab notebook to GitHub requires giving Colab permission to push the commit to your repository."
      ]
    },
    {
      "metadata": {
        "colab_type": "text",
        "id": "6_K1CAm6zlWx"
      },
      "cell_type": "markdown",
      "source": [
        "# Goodbye\n",
        "\n",
        "Create a code cell immediately below this text cell and insert the following code:\n",
        "\n",
        "        print(\"Goodbye, World!\")\n",
        "\n",
        "After you have inserted the text, execute the cell by pressing the **Play icon** and this will conclude this lesson."
      ]
    }
  ]
}